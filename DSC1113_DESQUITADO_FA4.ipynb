{
  "nbformat": 4,
  "nbformat_minor": 0,
  "metadata": {
    "colab": {
      "provenance": [],
      "authorship_tag": "ABX9TyMneQHT+EGel/g5NblPhXDF",
      "include_colab_link": true
    },
    "kernelspec": {
      "name": "python3",
      "display_name": "Python 3"
    },
    "language_info": {
      "name": "python"
    }
  },
  "cells": [
    {
      "cell_type": "markdown",
      "metadata": {
        "id": "view-in-github",
        "colab_type": "text"
      },
      "source": [
        "<a href=\"https://colab.research.google.com/github/ydesquitado/DSC1113/blob/main/DSC1113_DESQUITADO_FA4.ipynb\" target=\"_parent\"><img src=\"https://colab.research.google.com/assets/colab-badge.svg\" alt=\"Open In Colab\"/></a>"
      ]
    },
    {
      "cell_type": "code",
      "execution_count": 51,
      "metadata": {
        "colab": {
          "base_uri": "https://localhost:8080/"
        },
        "id": "GXFgUlLpdoBo",
        "outputId": "cf8e42ed-d505-40ba-e637-ae2e6e75636b"
      },
      "outputs": [
        {
          "output_type": "stream",
          "name": "stdout",
          "text": [
            "Requirement already satisfied: pyspark in /usr/local/lib/python3.11/dist-packages (3.5.1)\n",
            "Requirement already satisfied: py4j in /usr/local/lib/python3.11/dist-packages (0.10.9.7)\n"
          ]
        }
      ],
      "source": [
        "!pip install pyspark py4j"
      ]
    },
    {
      "cell_type": "code",
      "source": [
        "from pyspark.sql import SparkSession\n",
        "from pyspark.sql.functions import col, unix_timestamp, avg, sum, to_date, datediff, expr\n",
        "\n",
        "spark = SparkSession.builder.appName(\"PySparkColab\").getOrCreate()"
      ],
      "metadata": {
        "id": "IQgtMyfuds5m"
      },
      "execution_count": 52,
      "outputs": []
    },
    {
      "cell_type": "code",
      "source": [
        "path = '/content/yellow_tripdata_2025-01.parquet'\n",
        "\n",
        "df = spark.read.parquet(path,\n",
        "                        header = True)\n",
        "df.printSchema()\n",
        "df.show(10)"
      ],
      "metadata": {
        "colab": {
          "base_uri": "https://localhost:8080/"
        },
        "id": "bkUiFDAaeCci",
        "outputId": "f8760fc2-86bb-4b41-80bd-ab737e21ce15"
      },
      "execution_count": 53,
      "outputs": [
        {
          "output_type": "stream",
          "name": "stdout",
          "text": [
            "root\n",
            " |-- VendorID: integer (nullable = true)\n",
            " |-- tpep_pickup_datetime: timestamp_ntz (nullable = true)\n",
            " |-- tpep_dropoff_datetime: timestamp_ntz (nullable = true)\n",
            " |-- passenger_count: long (nullable = true)\n",
            " |-- trip_distance: double (nullable = true)\n",
            " |-- RatecodeID: long (nullable = true)\n",
            " |-- store_and_fwd_flag: string (nullable = true)\n",
            " |-- PULocationID: integer (nullable = true)\n",
            " |-- DOLocationID: integer (nullable = true)\n",
            " |-- payment_type: long (nullable = true)\n",
            " |-- fare_amount: double (nullable = true)\n",
            " |-- extra: double (nullable = true)\n",
            " |-- mta_tax: double (nullable = true)\n",
            " |-- tip_amount: double (nullable = true)\n",
            " |-- tolls_amount: double (nullable = true)\n",
            " |-- improvement_surcharge: double (nullable = true)\n",
            " |-- total_amount: double (nullable = true)\n",
            " |-- congestion_surcharge: double (nullable = true)\n",
            " |-- Airport_fee: double (nullable = true)\n",
            " |-- cbd_congestion_fee: double (nullable = true)\n",
            "\n",
            "+--------+--------------------+---------------------+---------------+-------------+----------+------------------+------------+------------+------------+-----------+-----+-------+----------+------------+---------------------+------------+--------------------+-----------+------------------+\n",
            "|VendorID|tpep_pickup_datetime|tpep_dropoff_datetime|passenger_count|trip_distance|RatecodeID|store_and_fwd_flag|PULocationID|DOLocationID|payment_type|fare_amount|extra|mta_tax|tip_amount|tolls_amount|improvement_surcharge|total_amount|congestion_surcharge|Airport_fee|cbd_congestion_fee|\n",
            "+--------+--------------------+---------------------+---------------+-------------+----------+------------------+------------+------------+------------+-----------+-----+-------+----------+------------+---------------------+------------+--------------------+-----------+------------------+\n",
            "|       1| 2025-01-01 00:18:38|  2025-01-01 00:26:59|              1|          1.6|         1|                 N|         229|         237|           1|       10.0|  3.5|    0.5|       3.0|         0.0|                  1.0|        18.0|                 2.5|        0.0|               0.0|\n",
            "|       1| 2025-01-01 00:32:40|  2025-01-01 00:35:13|              1|          0.5|         1|                 N|         236|         237|           1|        5.1|  3.5|    0.5|      2.02|         0.0|                  1.0|       12.12|                 2.5|        0.0|               0.0|\n",
            "|       1| 2025-01-01 00:44:04|  2025-01-01 00:46:01|              1|          0.6|         1|                 N|         141|         141|           1|        5.1|  3.5|    0.5|       2.0|         0.0|                  1.0|        12.1|                 2.5|        0.0|               0.0|\n",
            "|       2| 2025-01-01 00:14:27|  2025-01-01 00:20:01|              3|         0.52|         1|                 N|         244|         244|           2|        7.2|  1.0|    0.5|       0.0|         0.0|                  1.0|         9.7|                 0.0|        0.0|               0.0|\n",
            "|       2| 2025-01-01 00:21:34|  2025-01-01 00:25:06|              3|         0.66|         1|                 N|         244|         116|           2|        5.8|  1.0|    0.5|       0.0|         0.0|                  1.0|         8.3|                 0.0|        0.0|               0.0|\n",
            "|       2| 2025-01-01 00:48:24|  2025-01-01 01:08:26|              2|         2.63|         1|                 N|         239|          68|           2|       19.1|  1.0|    0.5|       0.0|         0.0|                  1.0|        24.1|                 2.5|        0.0|               0.0|\n",
            "|       1| 2025-01-01 00:14:47|  2025-01-01 00:16:15|              0|          0.4|         1|                 N|         170|         170|           1|        4.4|  3.5|    0.5|      2.35|         0.0|                  1.0|       11.75|                 2.5|        0.0|               0.0|\n",
            "|       1| 2025-01-01 00:39:27|  2025-01-01 00:51:51|              0|          1.6|         1|                 N|         234|         148|           1|       12.1|  3.5|    0.5|       2.0|         0.0|                  1.0|        19.1|                 2.5|        0.0|               0.0|\n",
            "|       1| 2025-01-01 00:53:43|  2025-01-01 01:13:23|              0|          2.8|         1|                 N|         148|         170|           1|       19.1|  3.5|    0.5|       3.0|         0.0|                  1.0|        27.1|                 2.5|        0.0|               0.0|\n",
            "|       2| 2025-01-01 00:00:02|  2025-01-01 00:09:36|              1|         1.71|         1|                 N|         237|         262|           2|       11.4|  1.0|    0.5|       0.0|         0.0|                  1.0|        16.4|                 2.5|        0.0|               0.0|\n",
            "+--------+--------------------+---------------------+---------------+-------------+----------+------------------+------------+------------+------------+-----------+-----+-------+----------+------------+---------------------+------------+--------------------+-----------+------------------+\n",
            "only showing top 10 rows\n",
            "\n"
          ]
        }
      ]
    },
    {
      "cell_type": "code",
      "source": [
        "dfCleaned = df.dropna(subset = ['tpep_pickup_datetime', 'tpep_dropoff_datetime', 'fare_amount'])\n",
        "dfCleaned.show(10)"
      ],
      "metadata": {
        "colab": {
          "base_uri": "https://localhost:8080/"
        },
        "id": "3DwMiXYtepMD",
        "outputId": "d17c90ba-ed3d-4e00-91e3-8cd2e68567a0"
      },
      "execution_count": 54,
      "outputs": [
        {
          "output_type": "stream",
          "name": "stdout",
          "text": [
            "+--------+--------------------+---------------------+---------------+-------------+----------+------------------+------------+------------+------------+-----------+-----+-------+----------+------------+---------------------+------------+--------------------+-----------+------------------+\n",
            "|VendorID|tpep_pickup_datetime|tpep_dropoff_datetime|passenger_count|trip_distance|RatecodeID|store_and_fwd_flag|PULocationID|DOLocationID|payment_type|fare_amount|extra|mta_tax|tip_amount|tolls_amount|improvement_surcharge|total_amount|congestion_surcharge|Airport_fee|cbd_congestion_fee|\n",
            "+--------+--------------------+---------------------+---------------+-------------+----------+------------------+------------+------------+------------+-----------+-----+-------+----------+------------+---------------------+------------+--------------------+-----------+------------------+\n",
            "|       1| 2025-01-01 00:18:38|  2025-01-01 00:26:59|              1|          1.6|         1|                 N|         229|         237|           1|       10.0|  3.5|    0.5|       3.0|         0.0|                  1.0|        18.0|                 2.5|        0.0|               0.0|\n",
            "|       1| 2025-01-01 00:32:40|  2025-01-01 00:35:13|              1|          0.5|         1|                 N|         236|         237|           1|        5.1|  3.5|    0.5|      2.02|         0.0|                  1.0|       12.12|                 2.5|        0.0|               0.0|\n",
            "|       1| 2025-01-01 00:44:04|  2025-01-01 00:46:01|              1|          0.6|         1|                 N|         141|         141|           1|        5.1|  3.5|    0.5|       2.0|         0.0|                  1.0|        12.1|                 2.5|        0.0|               0.0|\n",
            "|       2| 2025-01-01 00:14:27|  2025-01-01 00:20:01|              3|         0.52|         1|                 N|         244|         244|           2|        7.2|  1.0|    0.5|       0.0|         0.0|                  1.0|         9.7|                 0.0|        0.0|               0.0|\n",
            "|       2| 2025-01-01 00:21:34|  2025-01-01 00:25:06|              3|         0.66|         1|                 N|         244|         116|           2|        5.8|  1.0|    0.5|       0.0|         0.0|                  1.0|         8.3|                 0.0|        0.0|               0.0|\n",
            "|       2| 2025-01-01 00:48:24|  2025-01-01 01:08:26|              2|         2.63|         1|                 N|         239|          68|           2|       19.1|  1.0|    0.5|       0.0|         0.0|                  1.0|        24.1|                 2.5|        0.0|               0.0|\n",
            "|       1| 2025-01-01 00:14:47|  2025-01-01 00:16:15|              0|          0.4|         1|                 N|         170|         170|           1|        4.4|  3.5|    0.5|      2.35|         0.0|                  1.0|       11.75|                 2.5|        0.0|               0.0|\n",
            "|       1| 2025-01-01 00:39:27|  2025-01-01 00:51:51|              0|          1.6|         1|                 N|         234|         148|           1|       12.1|  3.5|    0.5|       2.0|         0.0|                  1.0|        19.1|                 2.5|        0.0|               0.0|\n",
            "|       1| 2025-01-01 00:53:43|  2025-01-01 01:13:23|              0|          2.8|         1|                 N|         148|         170|           1|       19.1|  3.5|    0.5|       3.0|         0.0|                  1.0|        27.1|                 2.5|        0.0|               0.0|\n",
            "|       2| 2025-01-01 00:00:02|  2025-01-01 00:09:36|              1|         1.71|         1|                 N|         237|         262|           2|       11.4|  1.0|    0.5|       0.0|         0.0|                  1.0|        16.4|                 2.5|        0.0|               0.0|\n",
            "+--------+--------------------+---------------------+---------------+-------------+----------+------------------+------------+------------+------------+-----------+-----+-------+----------+------------+---------------------+------------+--------------------+-----------+------------------+\n",
            "only showing top 10 rows\n",
            "\n"
          ]
        }
      ]
    },
    {
      "cell_type": "code",
      "source": [
        "dfFiltered = dfCleaned.filter((dfCleaned.trip_distance > 0) & (dfCleaned.fare_amount > 0))\n",
        "dfFiltered.show(10)"
      ],
      "metadata": {
        "colab": {
          "base_uri": "https://localhost:8080/"
        },
        "id": "GGEOenvwfgBx",
        "outputId": "e2a7d42f-a1db-4459-d69e-d61d5d3a3395"
      },
      "execution_count": 55,
      "outputs": [
        {
          "output_type": "stream",
          "name": "stdout",
          "text": [
            "+--------+--------------------+---------------------+---------------+-------------+----------+------------------+------------+------------+------------+-----------+-----+-------+----------+------------+---------------------+------------+--------------------+-----------+------------------+\n",
            "|VendorID|tpep_pickup_datetime|tpep_dropoff_datetime|passenger_count|trip_distance|RatecodeID|store_and_fwd_flag|PULocationID|DOLocationID|payment_type|fare_amount|extra|mta_tax|tip_amount|tolls_amount|improvement_surcharge|total_amount|congestion_surcharge|Airport_fee|cbd_congestion_fee|\n",
            "+--------+--------------------+---------------------+---------------+-------------+----------+------------------+------------+------------+------------+-----------+-----+-------+----------+------------+---------------------+------------+--------------------+-----------+------------------+\n",
            "|       1| 2025-01-01 00:18:38|  2025-01-01 00:26:59|              1|          1.6|         1|                 N|         229|         237|           1|       10.0|  3.5|    0.5|       3.0|         0.0|                  1.0|        18.0|                 2.5|        0.0|               0.0|\n",
            "|       1| 2025-01-01 00:32:40|  2025-01-01 00:35:13|              1|          0.5|         1|                 N|         236|         237|           1|        5.1|  3.5|    0.5|      2.02|         0.0|                  1.0|       12.12|                 2.5|        0.0|               0.0|\n",
            "|       1| 2025-01-01 00:44:04|  2025-01-01 00:46:01|              1|          0.6|         1|                 N|         141|         141|           1|        5.1|  3.5|    0.5|       2.0|         0.0|                  1.0|        12.1|                 2.5|        0.0|               0.0|\n",
            "|       2| 2025-01-01 00:14:27|  2025-01-01 00:20:01|              3|         0.52|         1|                 N|         244|         244|           2|        7.2|  1.0|    0.5|       0.0|         0.0|                  1.0|         9.7|                 0.0|        0.0|               0.0|\n",
            "|       2| 2025-01-01 00:21:34|  2025-01-01 00:25:06|              3|         0.66|         1|                 N|         244|         116|           2|        5.8|  1.0|    0.5|       0.0|         0.0|                  1.0|         8.3|                 0.0|        0.0|               0.0|\n",
            "|       2| 2025-01-01 00:48:24|  2025-01-01 01:08:26|              2|         2.63|         1|                 N|         239|          68|           2|       19.1|  1.0|    0.5|       0.0|         0.0|                  1.0|        24.1|                 2.5|        0.0|               0.0|\n",
            "|       1| 2025-01-01 00:14:47|  2025-01-01 00:16:15|              0|          0.4|         1|                 N|         170|         170|           1|        4.4|  3.5|    0.5|      2.35|         0.0|                  1.0|       11.75|                 2.5|        0.0|               0.0|\n",
            "|       1| 2025-01-01 00:39:27|  2025-01-01 00:51:51|              0|          1.6|         1|                 N|         234|         148|           1|       12.1|  3.5|    0.5|       2.0|         0.0|                  1.0|        19.1|                 2.5|        0.0|               0.0|\n",
            "|       1| 2025-01-01 00:53:43|  2025-01-01 01:13:23|              0|          2.8|         1|                 N|         148|         170|           1|       19.1|  3.5|    0.5|       3.0|         0.0|                  1.0|        27.1|                 2.5|        0.0|               0.0|\n",
            "|       2| 2025-01-01 00:00:02|  2025-01-01 00:09:36|              1|         1.71|         1|                 N|         237|         262|           2|       11.4|  1.0|    0.5|       0.0|         0.0|                  1.0|        16.4|                 2.5|        0.0|               0.0|\n",
            "+--------+--------------------+---------------------+---------------+-------------+----------+------------------+------------+------------+------------+-----------+-----+-------+----------+------------+---------------------+------------+--------------------+-----------+------------------+\n",
            "only showing top 10 rows\n",
            "\n"
          ]
        }
      ]
    },
    {
      "cell_type": "code",
      "source": [
        "dfRenamed = dfFiltered.withColumnRenamed('tpep_pickup_datetime', 'pickup_datetime')\n",
        "dfRenamed = dfRenamed.withColumnRenamed('tpep_dropoff_datetime', 'dropoff_datetime')\n",
        "dfRenamed = dfRenamed.withColumnRenamed('PULocationID', 'pickup_locID')\n",
        "dfRenamed = dfRenamed.withColumnRenamed('DOLocationID', 'dropoff_locID')\n",
        "dfRenamed.show(10)"
      ],
      "metadata": {
        "colab": {
          "base_uri": "https://localhost:8080/"
        },
        "id": "1m4HirLUf4mo",
        "outputId": "9f6f66c7-025b-4642-a44b-40cbe19fd7aa"
      },
      "execution_count": 56,
      "outputs": [
        {
          "output_type": "stream",
          "name": "stdout",
          "text": [
            "+--------+-------------------+-------------------+---------------+-------------+----------+------------------+------------+-------------+------------+-----------+-----+-------+----------+------------+---------------------+------------+--------------------+-----------+------------------+\n",
            "|VendorID|    pickup_datetime|   dropoff_datetime|passenger_count|trip_distance|RatecodeID|store_and_fwd_flag|pickup_locID|dropoff_locID|payment_type|fare_amount|extra|mta_tax|tip_amount|tolls_amount|improvement_surcharge|total_amount|congestion_surcharge|Airport_fee|cbd_congestion_fee|\n",
            "+--------+-------------------+-------------------+---------------+-------------+----------+------------------+------------+-------------+------------+-----------+-----+-------+----------+------------+---------------------+------------+--------------------+-----------+------------------+\n",
            "|       1|2025-01-01 00:18:38|2025-01-01 00:26:59|              1|          1.6|         1|                 N|         229|          237|           1|       10.0|  3.5|    0.5|       3.0|         0.0|                  1.0|        18.0|                 2.5|        0.0|               0.0|\n",
            "|       1|2025-01-01 00:32:40|2025-01-01 00:35:13|              1|          0.5|         1|                 N|         236|          237|           1|        5.1|  3.5|    0.5|      2.02|         0.0|                  1.0|       12.12|                 2.5|        0.0|               0.0|\n",
            "|       1|2025-01-01 00:44:04|2025-01-01 00:46:01|              1|          0.6|         1|                 N|         141|          141|           1|        5.1|  3.5|    0.5|       2.0|         0.0|                  1.0|        12.1|                 2.5|        0.0|               0.0|\n",
            "|       2|2025-01-01 00:14:27|2025-01-01 00:20:01|              3|         0.52|         1|                 N|         244|          244|           2|        7.2|  1.0|    0.5|       0.0|         0.0|                  1.0|         9.7|                 0.0|        0.0|               0.0|\n",
            "|       2|2025-01-01 00:21:34|2025-01-01 00:25:06|              3|         0.66|         1|                 N|         244|          116|           2|        5.8|  1.0|    0.5|       0.0|         0.0|                  1.0|         8.3|                 0.0|        0.0|               0.0|\n",
            "|       2|2025-01-01 00:48:24|2025-01-01 01:08:26|              2|         2.63|         1|                 N|         239|           68|           2|       19.1|  1.0|    0.5|       0.0|         0.0|                  1.0|        24.1|                 2.5|        0.0|               0.0|\n",
            "|       1|2025-01-01 00:14:47|2025-01-01 00:16:15|              0|          0.4|         1|                 N|         170|          170|           1|        4.4|  3.5|    0.5|      2.35|         0.0|                  1.0|       11.75|                 2.5|        0.0|               0.0|\n",
            "|       1|2025-01-01 00:39:27|2025-01-01 00:51:51|              0|          1.6|         1|                 N|         234|          148|           1|       12.1|  3.5|    0.5|       2.0|         0.0|                  1.0|        19.1|                 2.5|        0.0|               0.0|\n",
            "|       1|2025-01-01 00:53:43|2025-01-01 01:13:23|              0|          2.8|         1|                 N|         148|          170|           1|       19.1|  3.5|    0.5|       3.0|         0.0|                  1.0|        27.1|                 2.5|        0.0|               0.0|\n",
            "|       2|2025-01-01 00:00:02|2025-01-01 00:09:36|              1|         1.71|         1|                 N|         237|          262|           2|       11.4|  1.0|    0.5|       0.0|         0.0|                  1.0|        16.4|                 2.5|        0.0|               0.0|\n",
            "+--------+-------------------+-------------------+---------------+-------------+----------+------------------+------------+-------------+------------+-----------+-----+-------+----------+------------+---------------------+------------+--------------------+-----------+------------------+\n",
            "only showing top 10 rows\n",
            "\n"
          ]
        }
      ]
    },
    {
      "cell_type": "code",
      "source": [
        "totalFair = dfRenamed.agg({'fare_amount': 'sum'})\n",
        "totalPassenger = dfRenamed.agg({'passenger_count': 'sum'})\n",
        "averageFair = totalFair.collect()[0][0] / totalPassenger.collect()[0][0]\n",
        "\n",
        "print(f\"Total fair: {totalFair.collect()[0][0]}\")\n",
        "print(f\"Total passenger: {totalPassenger.collect()[0][0]}\")\n",
        "print(f\"Average fair: {averageFair}\")"
      ],
      "metadata": {
        "colab": {
          "base_uri": "https://localhost:8080/"
        },
        "id": "wPhBpwhwgQEQ",
        "outputId": "72d6876d-e605-4ece-8823-f0aafef277cb"
      },
      "execution_count": 57,
      "outputs": [
        {
          "output_type": "stream",
          "name": "stdout",
          "text": [
            "Total fair: 59290060.92001146\n",
            "Total passenger: 3680902\n",
            "Average fair: 16.107481514045052\n"
          ]
        }
      ]
    },
    {
      "cell_type": "code",
      "source": [
        "countPickUp = dfRenamed.groupBy('pickup_locID').count().sort('count', ascending = False)\n",
        "countPickUp.show(10)\n",
        "\n",
        "print(f'The top 1 pick-up location is: {countPickUp.collect()[0][0]}, with {countPickUp.collect()[0][1]} counts.')\n",
        "print(f'The top 2 pick-up location is: {countPickUp.collect()[1][0]}, with {countPickUp.collect()[1][1]} counts.')\n",
        "print(f'The top 3 pick-up location is: {countPickUp.collect()[2][0]}, with {countPickUp.collect()[2][1]} counts.')\n",
        "print(f'The top 4 pick-up location is: {countPickUp.collect()[3][0]}, with {countPickUp.collect()[3][1]} counts.')\n",
        "print(f'The top 5 pick-up location is: {countPickUp.collect()[4][0]}, with {countPickUp.collect()[4][1]} counts.')"
      ],
      "metadata": {
        "colab": {
          "base_uri": "https://localhost:8080/"
        },
        "id": "PAE7x-DDhaa_",
        "outputId": "e1c3f2f3-26c7-4832-d231-ca866b29ddfa"
      },
      "execution_count": 58,
      "outputs": [
        {
          "output_type": "stream",
          "name": "stdout",
          "text": [
            "+------------+------+\n",
            "|pickup_locID| count|\n",
            "+------------+------+\n",
            "|         161|161414|\n",
            "|         237|158098|\n",
            "|         236|149839|\n",
            "|         132|134836|\n",
            "|         230|118268|\n",
            "|         186|114142|\n",
            "|         162|112640|\n",
            "|         142|106057|\n",
            "|         239| 91914|\n",
            "|         163| 91567|\n",
            "+------------+------+\n",
            "only showing top 10 rows\n",
            "\n",
            "The top 1 pick-up location is: 161, with 161414 counts.\n",
            "The top 2 pick-up location is: 237, with 158098 counts.\n",
            "The top 3 pick-up location is: 236, with 149839 counts.\n",
            "The top 4 pick-up location is: 132, with 134836 counts.\n",
            "The top 5 pick-up location is: 230, with 118268 counts.\n"
          ]
        }
      ]
    },
    {
      "cell_type": "code",
      "source": [
        "dfRenamed = dfRenamed.withColumn(\"pickup_datetime\", unix_timestamp(col(\"pickup_datetime\")).cast(\"timestamp\")) \\\n",
        "                       .withColumn(\"dropoff_datetime\", unix_timestamp(col(\"dropoff_datetime\")).cast(\"timestamp\"))"
      ],
      "metadata": {
        "id": "bi6Hmm-f6bjr"
      },
      "execution_count": 59,
      "outputs": []
    },
    {
      "cell_type": "code",
      "source": [
        "dfRenamed = dfRenamed.withColumn(\"trip_duration\", (col(\"dropoff_datetime\").cast(\"long\") - col(\"pickup_datetime\").cast(\"long\")) / 60)\n",
        "dfRenamed.show(10)"
      ],
      "metadata": {
        "id": "ltYNGjX9heTn",
        "colab": {
          "base_uri": "https://localhost:8080/"
        },
        "outputId": "00518468-8540-449e-bc29-0a0a843554e8"
      },
      "execution_count": 60,
      "outputs": [
        {
          "output_type": "stream",
          "name": "stdout",
          "text": [
            "+--------+-------------------+-------------------+---------------+-------------+----------+------------------+------------+-------------+------------+-----------+-----+-------+----------+------------+---------------------+------------+--------------------+-----------+------------------+------------------+\n",
            "|VendorID|    pickup_datetime|   dropoff_datetime|passenger_count|trip_distance|RatecodeID|store_and_fwd_flag|pickup_locID|dropoff_locID|payment_type|fare_amount|extra|mta_tax|tip_amount|tolls_amount|improvement_surcharge|total_amount|congestion_surcharge|Airport_fee|cbd_congestion_fee|     trip_duration|\n",
            "+--------+-------------------+-------------------+---------------+-------------+----------+------------------+------------+-------------+------------+-----------+-----+-------+----------+------------+---------------------+------------+--------------------+-----------+------------------+------------------+\n",
            "|       1|2025-01-01 00:18:38|2025-01-01 00:26:59|              1|          1.6|         1|                 N|         229|          237|           1|       10.0|  3.5|    0.5|       3.0|         0.0|                  1.0|        18.0|                 2.5|        0.0|               0.0|              8.35|\n",
            "|       1|2025-01-01 00:32:40|2025-01-01 00:35:13|              1|          0.5|         1|                 N|         236|          237|           1|        5.1|  3.5|    0.5|      2.02|         0.0|                  1.0|       12.12|                 2.5|        0.0|               0.0|              2.55|\n",
            "|       1|2025-01-01 00:44:04|2025-01-01 00:46:01|              1|          0.6|         1|                 N|         141|          141|           1|        5.1|  3.5|    0.5|       2.0|         0.0|                  1.0|        12.1|                 2.5|        0.0|               0.0|              1.95|\n",
            "|       2|2025-01-01 00:14:27|2025-01-01 00:20:01|              3|         0.52|         1|                 N|         244|          244|           2|        7.2|  1.0|    0.5|       0.0|         0.0|                  1.0|         9.7|                 0.0|        0.0|               0.0| 5.566666666666666|\n",
            "|       2|2025-01-01 00:21:34|2025-01-01 00:25:06|              3|         0.66|         1|                 N|         244|          116|           2|        5.8|  1.0|    0.5|       0.0|         0.0|                  1.0|         8.3|                 0.0|        0.0|               0.0| 3.533333333333333|\n",
            "|       2|2025-01-01 00:48:24|2025-01-01 01:08:26|              2|         2.63|         1|                 N|         239|           68|           2|       19.1|  1.0|    0.5|       0.0|         0.0|                  1.0|        24.1|                 2.5|        0.0|               0.0|20.033333333333335|\n",
            "|       1|2025-01-01 00:14:47|2025-01-01 00:16:15|              0|          0.4|         1|                 N|         170|          170|           1|        4.4|  3.5|    0.5|      2.35|         0.0|                  1.0|       11.75|                 2.5|        0.0|               0.0|1.4666666666666666|\n",
            "|       1|2025-01-01 00:39:27|2025-01-01 00:51:51|              0|          1.6|         1|                 N|         234|          148|           1|       12.1|  3.5|    0.5|       2.0|         0.0|                  1.0|        19.1|                 2.5|        0.0|               0.0|              12.4|\n",
            "|       1|2025-01-01 00:53:43|2025-01-01 01:13:23|              0|          2.8|         1|                 N|         148|          170|           1|       19.1|  3.5|    0.5|       3.0|         0.0|                  1.0|        27.1|                 2.5|        0.0|               0.0|19.666666666666668|\n",
            "|       2|2025-01-01 00:00:02|2025-01-01 00:09:36|              1|         1.71|         1|                 N|         237|          262|           2|       11.4|  1.0|    0.5|       0.0|         0.0|                  1.0|        16.4|                 2.5|        0.0|               0.0| 9.566666666666666|\n",
            "+--------+-------------------+-------------------+---------------+-------------+----------+------------------+------------+-------------+------------+-----------+-----+-------+----------+------------+---------------------+------------+--------------------+-----------+------------------+------------------+\n",
            "only showing top 10 rows\n",
            "\n"
          ]
        }
      ]
    },
    {
      "cell_type": "code",
      "source": [
        "dfDaily = dfRenamed.withColumn(\"trip_date\", to_date(col(\"pickup_datetime\"))) \\\n",
        "    .groupBy(\"trip_date\") \\\n",
        "    .agg(sum(\"trip_distance\").alias(\"total_trip_distance\"),\n",
        "         avg(\"trip_duration\").alias(\"avg_trip_duration\"))\n",
        "\n",
        "dfDaily.show(10)"
      ],
      "metadata": {
        "colab": {
          "base_uri": "https://localhost:8080/"
        },
        "id": "Jn7U5HQ46w9x",
        "outputId": "d62a1dbc-0f2b-4953-d57c-87d7edc6487d"
      },
      "execution_count": 61,
      "outputs": [
        {
          "output_type": "stream",
          "name": "stdout",
          "text": [
            "+----------+-------------------+------------------+\n",
            "| trip_date|total_trip_distance| avg_trip_duration|\n",
            "+----------+-------------------+------------------+\n",
            "|2025-01-09|  608176.5600000052|15.464664529227802|\n",
            "|2025-01-14|  788489.4100000055|15.063421423722941|\n",
            "|2025-01-18| 424121.83000000275| 14.38218315375618|\n",
            "|2025-01-17|  848059.6699999978|16.066730181787868|\n",
            "|2025-01-13|  545132.5200000003|15.001899916797006|\n",
            "|2024-12-31|              76.81|16.805555555555557|\n",
            "|2025-01-10|  544009.3200000017|15.169033019917526|\n",
            "|2025-01-08| 318620.56000000116|14.771554037873857|\n",
            "|2025-01-19|  637236.9100000036|13.023908918695026|\n",
            "|2025-01-12|  802457.2899999972|13.956667871278771|\n",
            "+----------+-------------------+------------------+\n",
            "only showing top 10 rows\n",
            "\n"
          ]
        }
      ]
    },
    {
      "cell_type": "code",
      "source": [
        "dfDaily.coalesce(1).write.csv(\"/content/drive/MyDrive/dfDaily.csv\",\n",
        "                              header = True,\n",
        "                              mode = \"overwrite\")\n"
      ],
      "metadata": {
        "id": "9NTiRuRo7SjF"
      },
      "execution_count": 62,
      "outputs": []
    }
  ]
}